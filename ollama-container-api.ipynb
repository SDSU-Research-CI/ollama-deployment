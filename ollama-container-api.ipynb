{
 "cells": [
  {
   "cell_type": "code",
   "execution_count": 1,
   "metadata": {},
   "outputs": [],
   "source": [
    "import requests"
   ]
  },
  {
   "cell_type": "code",
   "execution_count": 30,
   "metadata": {},
   "outputs": [],
   "source": [
    "# More examples and documentation here\n",
    "# https://github.com/ollama/ollama/blob/main/docs/api.md#model-names\n",
    "\n",
    "headers = {\n",
    "    'Content-Type': 'application/x-www-form-urlencoded',\n",
    "}\n",
    "\n",
    "model = \"\\\"llama2:7b\\\"\"\n",
    "prompt = \"\\\"How to cultivate yeast?\\\"\"\n",
    "stream = 'false'\n",
    "\n",
    "data = f'{{\"model\": {model},\"prompt\": {prompt}, \"stream\": {stream}}}'\n",
    "\n",
    "response = requests.post('https://sdsu-aicenter-ollama.nrp-nautilus.io/api/generate', headers=headers, data=data)"
   ]
  },
  {
   "cell_type": "code",
   "execution_count": 31,
   "metadata": {},
   "outputs": [
    {
     "data": {
      "text/plain": [
       "\"\\nCultivating yeast is a relatively simple process that involves providing the right conditions for the yeast to grow and multiply. Here's a step-by-step guide on how to cultivate yeast:\\n\\nMaterials needed:\\n\\n* Yeast (available at most grocery stores or online)\\n* Sugar (such as molasses or corn syrup)\\n* Water\\n* Warm temperature (around 75-80°F or 24-27°C)\\n* Clean container with a lid (such as a glass jar or plastic container)\\n* Cheesecloth or a coffee filter\\n\\nInstructions:\\n\\n1. Start by dissolving the yeast in warm water. The ratio of yeast to water is typically around 1:1, so use one teaspoon of active dry yeast per cup of warm water. Stir gently to dissolve the yeast completely.\\n2. Add sugar to the mixture and stir until it's fully dissolved. The amount of sugar you use will depend on the desired level of fermentation, but a good starting point is around 1/4 cup of molasses or corn syrup per cup of water.\\n3. Transfer the yeast mixture to a clean container with a lid. Make sure the container is large enough to accommodate the mixture and allow for expansion during fermentation.\\n4. Seal the container and let it sit in a warm, dark place (around 75-80°F or 24-27°C) for 1-2 days. This will allow the yeast to multiply and start fermenting the sugar.\\n5. After 1-2 days, you should notice bubbles forming on the surface of the mixture. This is a sign that fermentation has started.\\n6. To check if the fermentation is complete, use a cheesecloth or coffee filter to cover the top of the container and secure it with a rubber band. Place the container in a cooler (around 40-50°F or 4-10°C) for 1-2 days. This will slow down the fermentation process and help to preserve the yeast.\\n7. After 1-2 days, remove the cheesecloth or coffee filter and check if the mixture has turned into a frothy, bubbly liquid. If it hasn't, let it sit for another day or two and check again.\\n8. Once the fermentation is complete, you can use the yeast as desired. You can transfer the yeast mixture to a glass jar or other container with a tight-fitting lid and store it in the fridge for up to 2 weeks.\\n\\nTips:\\n\\n* Use distilled water instead of tap water to prevent any contaminants from affecting the fermentation process.\\n* Keep the container in a dark place to prevent light from entering and affecting the yeast.\\n* Avoid using metal containers or utensils, as they can react with the yeast and slow down the fermentation process.\\n* If you notice any mold or unpleasant odors during the fermentation process, discard the mixture and start again.\\n\\nBy following these steps, you should be able to successfully cultivate yeast for use in bread making, brewing, or other applications.\""
      ]
     },
     "execution_count": 31,
     "metadata": {},
     "output_type": "execute_result"
    }
   ],
   "source": [
    "response.json()['response']"
   ]
  },
  {
   "cell_type": "code",
   "execution_count": null,
   "metadata": {},
   "outputs": [],
   "source": []
  }
 ],
 "metadata": {
  "kernelspec": {
   "display_name": "Python 3 (ipykernel)",
   "language": "python",
   "name": "python3"
  },
  "language_info": {
   "codemirror_mode": {
    "name": "ipython",
    "version": 3
   },
   "file_extension": ".py",
   "mimetype": "text/x-python",
   "name": "python",
   "nbconvert_exporter": "python",
   "pygments_lexer": "ipython3",
   "version": "3.11.5"
  }
 },
 "nbformat": 4,
 "nbformat_minor": 4
}
